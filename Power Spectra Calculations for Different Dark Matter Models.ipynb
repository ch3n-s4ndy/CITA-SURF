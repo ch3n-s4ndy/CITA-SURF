{
 "cells": [
  {
   "cell_type": "code",
   "execution_count": 4,
   "id": "2e0a43eb",
   "metadata": {},
   "outputs": [],
   "source": [
    "import matplotlib.pyplot as plt\n",
    "import numpy as np"
   ]
  },
  {
   "cell_type": "code",
   "execution_count": 5,
   "id": "9e6ccba7",
   "metadata": {},
   "outputs": [],
   "source": [
    "# import classy module\n",
    "from classy import Class"
   ]
  },
  {
   "cell_type": "code",
   "execution_count": 6,
   "id": "17fcfd32",
   "metadata": {},
   "outputs": [],
   "source": [
    "# first run: using parameters from instruction"
   ]
  },
  {
   "cell_type": "code",
   "execution_count": 7,
   "id": "334f6a11",
   "metadata": {},
   "outputs": [],
   "source": [
    "# define parameters\n",
    "params={\n",
    "    \"output\": 'tCl,pCl,lCl,mPk', \n",
    "    \"lensing\": 'yes', \n",
    "    \"omega_cdm\": 0.1201,\n",
    "    \"omega_b\": 0.02237, \n",
    "    \"h\": 0.67810, \n",
    "    \"A_s\": 2.10e-09,\n",
    "    \"n_s\": 0.96,\n",
    "    \"tau_reio\": 0.05,\n",
    "    \"P_k_max_1/Mpc\": 3.0,\n",
    "    \"T_cmb\": 2.72\n",
    "}"
   ]
  },
  {
   "cell_type": "code",
   "execution_count": 8,
   "id": "69401bef",
   "metadata": {},
   "outputs": [],
   "source": [
    "# create the object and set up the parameters\n",
    "c = Class()\n",
    "c.set(params)\n",
    "c.compute()"
   ]
  },
  {
   "cell_type": "code",
   "execution_count": 9,
   "id": "61f17623",
   "metadata": {},
   "outputs": [
    {
     "data": {
      "text/plain": [
       "{'tt': array([0.00000000e+00, 0.00000000e+00, 1.48773885e-10, ...,\n",
       "        1.06520099e-17, 1.06119334e-17, 1.05721169e-17]),\n",
       " 'ee': array([0.00000000e+00, 0.00000000e+00, 4.14016257e-15, ...,\n",
       "        3.92964541e-19, 3.93079460e-19, 3.93189484e-19]),\n",
       " 'te': array([ 0.00000000e+00,  0.00000000e+00,  3.67095467e-13, ...,\n",
       "        -3.95405901e-19, -3.95595652e-19, -3.95857424e-19]),\n",
       " 'bb': array([0.00000000e+00, 0.00000000e+00, 2.45144895e-19, ...,\n",
       "        3.38523007e-21, 3.37770098e-21, 3.37018833e-21]),\n",
       " 'pp': array([0.00000000e+00, 0.00000000e+00, 8.69898343e-09, ...,\n",
       "        1.21193154e-22, 1.20866228e-22, 1.20540279e-22]),\n",
       " 'tp': array([0.00000000e+00, 0.00000000e+00, 4.82939062e-10, ...,\n",
       "        2.62689933e-23, 2.63667080e-23, 2.64622088e-23]),\n",
       " 'ell': array([   0,    1,    2, ..., 2498, 2499, 2500])}"
      ]
     },
     "execution_count": 9,
     "metadata": {},
     "output_type": "execute_result"
    }
   ],
   "source": [
    "c.lensed_cl(2500)"
   ]
  },
  {
   "cell_type": "code",
   "execution_count": 10,
   "id": "80da1386",
   "metadata": {},
   "outputs": [
    {
     "data": {
      "text/plain": [
       "[<matplotlib.lines.Line2D at 0x7f160fc7f010>]"
      ]
     },
     "execution_count": 10,
     "metadata": {},
     "output_type": "execute_result"
    },
    {
     "data": {
      "image/png": "[encoded data removed]",
      "text/plain": [
       "<Figure size 432x288 with 1 Axes>"
      ]
     },
     "metadata": {
      "needs_background": "light"
     },
     "output_type": "display_data"
    }
   ],
   "source": [
    "cls = c.lensed_cl(2500)\n",
    "ll = cls['ell'][2:]\n",
    "clTT = cls['tt'][2:]\n",
    "\n",
    "plt.figure()\n",
    "plt.xscale('log')\n",
    "plt.yscale('linear')\n",
    "plt.xlim(2, 2500)\n",
    "plt.xlabel(r'$\\ell$')\n",
    "plt.ylabel(r'$[\\ell(\\ell+1)/2\\pi] C_\\ell^\\mathrm{TT}$')\n",
    "plt.plot(ll, clTT*ll*(ll+1)/2./np.pi, 'r-')"
   ]
  },
  {
   "cell_type": "code",
   "execution_count": 11,
   "id": "60ce2fba",
   "metadata": {},
   "outputs": [],
   "source": [
    "# Cold dark matter model\n",
    "params_cold = {\n",
    "    \"output\": 'tCl,pCl,lCl,mPk', \n",
    "    \"lensing\": 'yes', \n",
    "    \"omega_cdm\": 0.1200,\n",
    "    \"omega_b\": 0.02237, \n",
    "    \"h\": 0.6736, \n",
    "    \"A_s\": 2.0989e-09,\n",
    "    \"n_s\": 0.9649,\n",
    "    \"tau_reio\": 0.0544,\n",
    "    \"P_k_max_1/Mpc\": 3.0,\n",
    "    \"T_cmb\": 2.72548\n",
    "}"
   ]
  },
  {
   "cell_type": "code",
   "execution_count": 12,
   "id": "3a410a3b",
   "metadata": {},
   "outputs": [
    {
     "data": {
      "text/plain": [
       "{'tt': array([0.00000000e+00, 0.00000000e+00, 1.44481437e-10, ...,\n",
       "        1.06934766e-17, 1.06528892e-17, 1.06125492e-17]),\n",
       " 'ee': array([0.00000000e+00, 0.00000000e+00, 4.39562550e-15, ...,\n",
       "        3.88211740e-19, 3.88340628e-19, 3.88466428e-19]),\n",
       " 'te': array([ 0.00000000e+00,  0.00000000e+00,  3.71673138e-13, ...,\n",
       "        -3.94744881e-19, -3.94671356e-19, -3.94673153e-19]),\n",
       " 'bb': array([0.00000000e+00, 0.00000000e+00, 2.41742119e-19, ...,\n",
       "        3.36727194e-21, 3.35979192e-21, 3.35232783e-21]),\n",
       " 'pp': array([0.00000000e+00, 0.00000000e+00, 8.66888067e-09, ...,\n",
       "        1.20957387e-22, 1.20631027e-22, 1.20305642e-22]),\n",
       " 'tp': array([0.00000000e+00, 0.00000000e+00, 4.70757983e-10, ...,\n",
       "        2.47416594e-23, 2.47898002e-23, 2.48373636e-23]),\n",
       " 'ell': array([   0,    1,    2, ..., 2498, 2499, 2500])}"
      ]
     },
     "execution_count": 12,
     "metadata": {},
     "output_type": "execute_result"
    }
   ],
   "source": [
    "# create the object and set up the parameters\n",
    "cold = Class()\n",
    "cold.set(params_cold)\n",
    "cold.compute()\n",
    "cold.lensed_cl(2500)"
   ]
  },
  {
   "cell_type": "code",
   "execution_count": 13,
   "id": "6284a6b9",
   "metadata": {},
   "outputs": [
    {
     "data": {
      "text/plain": [
       "[<matplotlib.lines.Line2D at 0x7f160914dd80>]"
      ]
     },
     "execution_count": 13,
     "metadata": {},
     "output_type": "execute_result"
    },
    {
     "data": {
      "image/png": "[encoded data removed]",
      "text/plain": [
       "<Figure size 432x288 with 1 Axes>"
      ]
     },
     "metadata": {
      "needs_background": "light"
     },
     "output_type": "display_data"
    }
   ],
   "source": [
    "cls_c = cold.lensed_cl(2500)\n",
    "ll_c = cls_c['ell'][2:]\n",
    "clTT_c = cls_c['tt'][2:]\n",
    "\n",
    "plt.figure(1)\n",
    "plt.xscale('log')\n",
    "plt.yscale('linear')\n",
    "plt.xlim(2, 2500)\n",
    "plt.xlabel(r'$\\ell$')\n",
    "plt.ylabel(r'$[\\ell(\\ell+1)/2\\pi] C_\\ell^\\mathrm{TT}$')\n",
    "plt.plot(ll_c, clTT_c*ll_c*(ll_c+1)/2./np.pi, 'r-')"
   ]
  },
  {
   "cell_type": "code",
   "execution_count": 14,
   "id": "1abf1974",
   "metadata": {},
   "outputs": [],
   "source": [
    "kk_c = np.logspace(-4, np.log10(3), 1000)\n",
    "Pk_c = []\n",
    "for k in kk_c:\n",
    "    Pk_c.append(cold.pk(k, 0.))"
   ]
  },
  {
   "cell_type": "code",
   "execution_count": 15,
   "id": "f18f51aa",
   "metadata": {
    "scrolled": true
   },
   "outputs": [
    {
     "data": {
      "text/plain": [
       "[<matplotlib.lines.Line2D at 0x7f160830ded0>]"
      ]
     },
     "execution_count": 15,
     "metadata": {},
     "output_type": "execute_result"
    },
    {
     "data": {
      "image/png": "[encoded data removed]",
      "text/plain": [
       "<Figure size 432x288 with 1 Axes>"
      ]
     },
     "metadata": {
      "needs_background": "light"
     },
     "output_type": "display_data"
    }
   ],
   "source": [
    "plt.figure(2)\n",
    "plt.xscale('log')\n",
    "plt.yscale('log')\n",
    "plt.xlim(kk_c[0], kk_c[-1])\n",
    "plt.xlabel(r'$k \\,\\,\\,\\, [h/\\mathrm{Mpc}]$')\n",
    "plt.ylabel(r'$P(k) \\,\\,\\,\\, [\\mathrm{Mpc}/h]^3$')\n",
    "plt.plot(kk_c, Pk_c, 'b-')"
   ]
  },
  {
   "cell_type": "code",
   "execution_count": 31,
   "id": "d8c3d662",
   "metadata": {},
   "outputs": [],
   "source": [
    "# Warm dark matter model\n",
    "params_warm = {\n",
    "    \"output\": 'tCl,pCl,lCl,mPk', \n",
    "    \"lensing\": 'yes', \n",
    "    \"omega_cdm\": 0,\n",
    "    \"omega_b\": 0.02237, \n",
    "    \"omega_ncdm\": 0.3,\n",
    "    \"h\": 0.6736, \n",
    "    \"A_s\": 2.0989e-09,\n",
    "    \"n_s\": 0.9649,\n",
    "    \"tau_reio\": 0.0544,\n",
    "    \"P_k_max_1/Mpc\": 3.0,\n",
    "    \"T_cmb\": 2.72548, \n",
    "    \"m_ncdm\":1000, \n",
    "    \"N_ncdm\":1,\n",
    "    \"T_ncdm\": 10,\n",
    "    \"deg_ncdm\":3\n",
    "}"
   ]
  },
  {
   "cell_type": "code",
   "execution_count": 32,
   "id": "037d4987",
   "metadata": {},
   "outputs": [
    {
     "data": {
      "text/plain": [
       "{'tt': array([0.00000000e+00, 0.00000000e+00, 1.08639549e-10, ...,\n",
       "        6.34745242e-18, 6.32425901e-18, 6.30109886e-18]),\n",
       " 'ee': array([0.00000000e+00, 0.00000000e+00, 2.43833749e-15, ...,\n",
       "        2.11132520e-19, 2.10578984e-19, 2.10032491e-19]),\n",
       " 'te': array([ 0.00000000e+00,  0.00000000e+00,  3.44582304e-13, ...,\n",
       "        -3.07121974e-19, -3.05222966e-19, -3.03346685e-19]),\n",
       " 'bb': array([0.00000000e+00, 0.00000000e+00, 4.22542920e-19, ...,\n",
       "        3.88566355e-21, 3.87526378e-21, 3.86488650e-21]),\n",
       " 'pp': array([0.00000000e+00, 0.00000000e+00, 1.21402282e-08, ...,\n",
       "        2.62472291e-23, 2.61303409e-23, 2.60139862e-23]),\n",
       " 'tp': array([0.00000000e+00, 0.00000000e+00, 6.53851576e-11, ...,\n",
       "        2.52987661e-23, 2.51194040e-23, 2.49474466e-23]),\n",
       " 'ell': array([   0,    1,    2, ..., 2498, 2499, 2500])}"
      ]
     },
     "execution_count": 32,
     "metadata": {},
     "output_type": "execute_result"
    }
   ],
   "source": [
    "# create the object and set up the parameters\n",
    "warm = Class()\n",
    "warm.set(params_warm)\n",
    "warm.compute()\n",
    "warm.lensed_cl(2500)"
   ]
  },
  {
   "cell_type": "code",
   "execution_count": 33,
   "id": "31039b92",
   "metadata": {},
   "outputs": [
    {
     "data": {
      "text/plain": [
       "[<matplotlib.lines.Line2D at 0x7f1603ab1d50>]"
      ]
     },
     "execution_count": 33,
     "metadata": {},
     "output_type": "execute_result"
    },
    {
     "data": {
      "image/png": "[encoded data removed]",
      "text/plain": [
       "<Figure size 432x288 with 1 Axes>"
      ]
     },
     "metadata": {
      "needs_background": "light"
     },
     "output_type": "display_data"
    }
   ],
   "source": [
    "cls_w = warm.lensed_cl(2500)\n",
    "ll_w = cls_w['ell'][2:]\n",
    "clTT_w = cls_w['tt'][2:]\n",
    "\n",
    "plt.figure(1)\n",
    "plt.xscale('log')\n",
    "plt.yscale('linear')\n",
    "plt.xlim(2, 2500)\n",
    "plt.xlabel(r'$\\ell$')\n",
    "plt.ylabel(r'$[\\ell(\\ell+1)/2\\pi] C_\\ell^\\mathrm{TT}$')\n",
    "plt.plot(ll_w, clTT_w*ll_w*(ll_w+1)/2./np.pi, 'r-')"
   ]
  },
  {
   "cell_type": "code",
   "execution_count": 34,
   "id": "3931480f",
   "metadata": {
    "scrolled": true
   },
   "outputs": [
    {
     "data": {
      "text/plain": [
       "[<matplotlib.lines.Line2D at 0x7f1603d646a0>]"
      ]
     },
     "execution_count": 34,
     "metadata": {},
     "output_type": "execute_result"
    },
    {
     "data": {
      "image/png": "[encoded data removed]",
      "text/plain": [
       "<Figure size 432x288 with 1 Axes>"
      ]
     },
     "metadata": {
      "needs_background": "light"
     },
     "output_type": "display_data"
    }
   ],
   "source": [
    "kk_w = np.logspace(-4, np.log10(3), 1000)\n",
    "Pk_w = []\n",
    "for k in kk_w:\n",
    "    Pk_w.append(warm.pk(k, 0.))\n",
    "plt.figure(2)\n",
    "plt.xscale('log')\n",
    "plt.yscale('log')\n",
    "plt.xlim(kk_w[0], kk_w[-1])\n",
    "plt.xlabel(r'$k \\,\\,\\,\\, [h/\\mathrm{Mpc}]$')\n",
    "plt.ylabel(r'$P(k) \\,\\,\\,\\, [\\mathrm{Mpc}/h]^3$')\n",
    "plt.plot(kk_w, Pk_w, 'b-')"
   ]
  },
  {
   "cell_type": "code",
   "execution_count": null,
   "id": "f5eb70e4",
   "metadata": {},
   "outputs": [],
   "source": []
  },
  {
   "cell_type": "code",
   "execution_count": null,
   "id": "fe4ca4f4",
   "metadata": {},
   "outputs": [],
   "source": []
  },
  {
   "cell_type": "code",
   "execution_count": null,
   "id": "2186bdf3",
   "metadata": {},
   "outputs": [],
   "source": []
  }
 ],
 "metadata": {
  "kernelspec": {
   "display_name": "Python 3 (ipykernel)",
   "language": "python",
   "name": "python3"
  },
  "language_info": {
   "codemirror_mode": {
    "name": "ipython",
    "version": 3
   },
   "file_extension": ".py",
   "mimetype": "text/x-python",
   "name": "python",
   "nbconvert_exporter": "python",
   "pygments_lexer": "ipython3",
   "version": "3.10.2"
  }
 },
 "nbformat": 4,
 "nbformat_minor": 5
}
