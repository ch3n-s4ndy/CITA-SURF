{
 "cells": [
  {
   "cell_type": "code",
   "execution_count": 9,
   "metadata": {},
   "outputs": [],
   "source": [
    "import numpy as np\n",
    "import matplotlib.pyplot as plt\n",
    "#from classy import Class"
   ]
  },
  {
   "cell_type": "code",
   "execution_count": 10,
   "metadata": {},
   "outputs": [],
   "source": [
    "def setup_class(parameter):\n",
    "    \"\"\"\n",
    "    It sets up the CLASS code with the given cosmological parameter.\n",
    "    \"\"\"\n",
    "    c = Class()\n",
    "    c.set(parameter)\n",
    "    return c"
   ]
  },
  {
   "cell_type": "code",
   "execution_count": 11,
   "metadata": {},
   "outputs": [],
   "source": [
    "def get_lensed_cl(c, l):\n",
    "    \"\"\"\n",
    "    It runs the CLASS code and aceessess the lensed cl until l=2500.\n",
    "    \"\"\"\n",
    "    c.compute()\n",
    "    cls = c.lensed_cl(l)\n",
    "    return cls"
   ]
  },
  {
   "cell_type": "code",
   "execution_count": 12,
   "metadata": {},
   "outputs": [],
   "source": [
    "def plot_cmb_spectrum(c, l):\n",
    "    \"\"\"\n",
    "    It plots the Cosmic Microwave Background (CMB) angular power spectrum.\n",
    "    \"\"\"\n",
    "    cls = get_lensed_cl(c, l)\n",
    "    ll = cls['ell'][2:]\n",
    "    clTT = cls['tt'][2:]\n",
    "    plt.figure()\n",
    "    plt.xscale('log')\n",
    "    plt.yscale('linear')\n",
    "    plt.xlim(ll[0], ll[-1])\n",
    "    plt.xlabel(r'$\\ell$')\n",
    "    plt.ylabel(r'$[\\ell(\\ell+1)/2\\pi] C_\\ell^\\mathrm{TT}$')\n",
    "    plt.plot(ll, clTT*ll*(ll+1)/2./np.pi, 'r-')"
   ]
  },
  {
   "cell_type": "code",
   "execution_count": null,
   "metadata": {},
   "outputs": [],
   "source": [
    "def plot_matter_spectrum(c):\n",
    "    \"\"\"\n",
    "    It plots the Matter power spectrum.\n",
    "    \"\"\"\n",
    "    kk = np.logspace(-4, np.log10(3), 1000)\n",
    "    Pk = []\n",
    "    for k in kk:\n",
    "        Pk.append(c.pk(k, 0.))\n",
    "    plt.figure()\n",
    "    plt.xscale('log')\n",
    "    plt.yscale('log')\n",
    "    plt.xlim(kk[0], kk[-1])\n",
    "    plt.xlabel(r'$k \\,\\,\\,\\, [h/\\mathrm{Mpc}]$')\n",
    "    plt.ylabel(r'$P(k) \\,\\,\\,\\, [\\mathrm{Mpc}/h]^3$')\n",
    "    plt.plot(kk, Pk, 'b-')"
   ]
  },
  {
   "attachments": {},
   "cell_type": "markdown",
   "metadata": {},
   "source": []
  }
 ],
 "metadata": {
  "kernelspec": {
   "display_name": "Python 3",
   "language": "python",
   "name": "python3"
  },
  "language_info": {
   "codemirror_mode": {
    "name": "ipython",
    "version": 3
   },
   "file_extension": ".py",
   "mimetype": "text/x-python",
   "name": "python",
   "nbconvert_exporter": "python",
   "pygments_lexer": "ipython3",
   "version": "3.8.16"
  },
  "orig_nbformat": 4
 },
 "nbformat": 4,
 "nbformat_minor": 2
}
